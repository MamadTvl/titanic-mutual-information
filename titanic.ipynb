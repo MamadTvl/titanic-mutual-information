{
 "cells": [
  {
   "cell_type": "code",
   "execution_count": 255,
   "metadata": {},
   "outputs": [],
   "source": [
    "import pandas as pd\n",
    "import numpy as np\n",
    "from sklearn.feature_selection import mutual_info_classif\n",
    "from sklearn.model_selection import train_test_split\n",
    "from sklearn.linear_model import LogisticRegression\n",
    "from sklearn.metrics import accuracy_score"
   ]
  },
  {
   "cell_type": "code",
   "execution_count": 256,
   "metadata": {},
   "outputs": [
    {
     "name": "stdout",
     "output_type": "stream",
     "text": [
      "     Survived  Pclass                                               Name  \\\n",
      "0         0.0       3                            Braund, Mr. Owen Harris   \n",
      "1         1.0       1  Cumings, Mrs. John Bradley (Florence Briggs Th...   \n",
      "2         1.0       3                             Heikkinen, Miss. Laina   \n",
      "3         1.0       1       Futrelle, Mrs. Jacques Heath (Lily May Peel)   \n",
      "4         0.0       3                           Allen, Mr. William Henry   \n",
      "..        ...     ...                                                ...   \n",
      "886       0.0       2                              Montvila, Rev. Juozas   \n",
      "887       1.0       1                       Graham, Miss. Margaret Edith   \n",
      "888       0.0       3           Johnston, Miss. Catherine Helen \"Carrie\"   \n",
      "889       1.0       1                              Behr, Mr. Karl Howell   \n",
      "890       0.0       3                                Dooley, Mr. Patrick   \n",
      "\n",
      "     Gender Age  SibSp  Parch  Embarked  \n",
      "0         1   3      1      0       3.0  \n",
      "1         2   4      1      0       1.0  \n",
      "2         2   4      0      0       3.0  \n",
      "3         2   4      1      0       3.0  \n",
      "4         1   4      0      0       3.0  \n",
      "..      ...  ..    ...    ...       ...  \n",
      "886       1   4      0      0       3.0  \n",
      "887       2   3      0      0       3.0  \n",
      "888       2   4      1      2       3.0  \n",
      "889       1   4      0      0       1.0  \n",
      "890       1   4      0      0       2.0  \n",
      "\n",
      "[891 rows x 8 columns]\n"
     ]
    }
   ],
   "source": [
    "data = pd.read_csv('train.csv')\n",
    "columns = ['Age', 'Gender', 'Pclass', 'Embarked', 'SibSp', 'Parch']\n",
    "gender_dict = {\n",
    "    'male': 1,\n",
    "    'female': 2,\n",
    "}\n",
    "embarked_dict = {\n",
    "    'C': 1,\n",
    "    'Q': 2,\n",
    "    'S': 3,\n",
    "}\n",
    "age_dict = {\n",
    "    '0-2': 1, '3-13': 2, '14-24': 3, '25-50': 4, '51+': 5\n",
    "}\n",
    "\n",
    "data['Gender'] = data['Gender'].map(gender_dict)\n",
    "data['Embarked'] = data['Embarked'].map(embarked_dict)\n",
    "data['Survived'] = data['Survived'].apply(lambda x: float(x))\n",
    "data['Age'] = data['Age'].apply(lambda x: float(x))\n",
    "avg_age = data['Age'].mean()\n",
    "data = data.fillna(avg_age)\n",
    "data['Age'] = pd.cut(data['Age'], bins=[0, 2, 13, 24, 50, np.inf], labels=['0-2', '3-13', '14-24', '25-50', '51+'])\n",
    "data['Age'] = data['Age'].map(age_dict)\n",
    "print(data)"
   ]
  },
  {
   "cell_type": "code",
   "execution_count": 257,
   "metadata": {},
   "outputs": [
    {
     "name": "stdout",
     "output_type": "stream",
     "text": [
      "0.9607079018756469\n"
     ]
    }
   ],
   "source": [
    "def calculate_probability(factor)-> float:\n",
    "    return data[factor].value_counts() / len(data)\n",
    "\n",
    "def calculate_joint_probability(factor, target):\n",
    "    grouped_data = data.groupby(factor)[target].value_counts()\n",
    "    return grouped_data / grouped_data.sum()\n",
    "\n",
    "def calculate_entropy(probability) -> float:\n",
    "    return -np.sum(probability * np.log2(probability))\n",
    "\n",
    "entropy_target = calculate_entropy(calculate_probability('Survived'))\n",
    "print(entropy_target)\n",
    "def calculate_mutual_information(factor):\n",
    "    factor_prob = calculate_probability(factor)\n",
    "    joint_prob = calculate_joint_probability(factor, 'Survived')\n",
    "    \n",
    "    entropy_factor = calculate_entropy(factor_prob)\n",
    "    entropy_joint = calculate_entropy(joint_prob)\n",
    "    return entropy_factor + entropy_target - entropy_joint"
   ]
  },
  {
   "cell_type": "code",
   "execution_count": 258,
   "metadata": {},
   "outputs": [],
   "source": [
    "def print_accuracy(mi_scores): \n",
    "    k = 4\n",
    "    top_factors = [f for f, score in zip(columns, mi_scores) if score >= sorted(mi_scores, reverse=True)[k-1]]\n",
    "    X = data[top_factors]\n",
    "\n",
    "    X_train, X_test, y_train, y_test = train_test_split(X, data['Survived'], random_state=42)\n",
    "\n",
    "    model = LogisticRegression()\n",
    "\n",
    "    model.fit(X_train, y_train)\n",
    "\n",
    "    y_pred = model.predict(X_test)\n",
    "    accuracy = accuracy_score(y_test, y_pred)\n",
    "    print(\"Accuracy:\", accuracy)"
   ]
  },
  {
   "cell_type": "code",
   "execution_count": 259,
   "metadata": {},
   "outputs": [],
   "source": [
    "def print_mi(mi_scores, key):\n",
    "    results = pd.DataFrame({'Factor': columns, 'Mutual Information': mi_scores})\n",
    "    results = results.sort_values('Mutual Information', ascending=False)\n",
    "    results.to_csv(f'results-{key}.csv')\n",
    "    print(results)"
   ]
  },
  {
   "cell_type": "code",
   "execution_count": 260,
   "metadata": {},
   "outputs": [
    {
     "name": "stdout",
     "output_type": "stream",
     "text": [
      "     Factor  Mutual Information\n",
      "1    Gender            0.217660\n",
      "2    Pclass            0.083831\n",
      "4     SibSp            0.033466\n",
      "3  Embarked            0.024047\n",
      "5     Parch            0.023611\n",
      "0       Age            0.011279\n",
      "Accuracy: 0.8071748878923767\n"
     ]
    }
   ],
   "source": [
    "mi_scores = [calculate_mutual_information(factor) for factor in columns]\n",
    "mi_scores\n",
    "print_mi(mi_scores, 1)\n",
    "print_accuracy(mi_scores)"
   ]
  },
  {
   "cell_type": "code",
   "execution_count": 261,
   "metadata": {},
   "outputs": [
    {
     "name": "stdout",
     "output_type": "stream",
     "text": [
      "     Factor  Mutual Information\n",
      "1    Gender            0.143608\n",
      "2    Pclass            0.059195\n",
      "3  Embarked            0.039275\n",
      "5     Parch            0.033513\n",
      "4     SibSp            0.023034\n",
      "0       Age            0.000000\n",
      "Accuracy: 0.7847533632286996\n"
     ]
    }
   ],
   "source": [
    "\n",
    "mi_scores = mutual_info_classif(\n",
    "    data[columns], data['Survived'], random_state=42)\n",
    "\n",
    "print_mi(mi_scores, 2)\n",
    "print_accuracy(mi_scores)"
   ]
  }
 ],
 "metadata": {
  "kernelspec": {
   "display_name": "Python 3",
   "language": "python",
   "name": "python3"
  },
  "language_info": {
   "codemirror_mode": {
    "name": "ipython",
    "version": 3
   },
   "file_extension": ".py",
   "mimetype": "text/x-python",
   "name": "python",
   "nbconvert_exporter": "python",
   "pygments_lexer": "ipython3",
   "version": "3.11.3"
  },
  "orig_nbformat": 4
 },
 "nbformat": 4,
 "nbformat_minor": 2
}
